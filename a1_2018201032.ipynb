{
 "cells": [
  {
   "cell_type": "markdown",
   "metadata": {},
   "source": [
    "# SMAI (CSE 471) Assignment 1 : Decision Tree Classifier\n",
    "\n",
    "### Name : Manojit Chakraborty\n",
    "### Course : MTech CSIS\n",
    "### Roll No : 2018201032 "
   ]
  },
  {
   "cell_type": "code",
   "execution_count": 1,
   "metadata": {},
   "outputs": [],
   "source": [
    "import numpy as np\n",
    "import pandas as pd\n",
    "import matplotlib.pyplot as plt\n",
    "from sklearn.tree import DecisionTreeClassifier\n",
    "from sklearn.model_selection import train_test_split\n",
    "from sklearn.metrics import accuracy_score,confusion_matrix,classification_report\n",
    "import warnings\n",
    "warnings.filterwarnings(\"ignore\")"
   ]
  },
  {
   "cell_type": "code",
   "execution_count": 2,
   "metadata": {},
   "outputs": [],
   "source": [
    "df=pd.read_csv(\"train.csv\")"
   ]
  },
  {
   "cell_type": "code",
   "execution_count": 3,
   "metadata": {},
   "outputs": [
    {
     "data": {
      "text/html": [
       "<div>\n",
       "<style scoped>\n",
       "    .dataframe tbody tr th:only-of-type {\n",
       "        vertical-align: middle;\n",
       "    }\n",
       "\n",
       "    .dataframe tbody tr th {\n",
       "        vertical-align: top;\n",
       "    }\n",
       "\n",
       "    .dataframe thead th {\n",
       "        text-align: right;\n",
       "    }\n",
       "</style>\n",
       "<table border=\"1\" class=\"dataframe\">\n",
       "  <thead>\n",
       "    <tr style=\"text-align: right;\">\n",
       "      <th></th>\n",
       "      <th>satisfaction_level</th>\n",
       "      <th>last_evaluation</th>\n",
       "      <th>number_project</th>\n",
       "      <th>average_montly_hours</th>\n",
       "      <th>time_spend_company</th>\n",
       "      <th>Work_accident</th>\n",
       "      <th>left</th>\n",
       "      <th>promotion_last_5years</th>\n",
       "      <th>sales</th>\n",
       "      <th>salary</th>\n",
       "    </tr>\n",
       "  </thead>\n",
       "  <tbody>\n",
       "    <tr>\n",
       "      <th>0</th>\n",
       "      <td>0.10</td>\n",
       "      <td>0.90</td>\n",
       "      <td>7</td>\n",
       "      <td>286</td>\n",
       "      <td>4</td>\n",
       "      <td>0</td>\n",
       "      <td>1</td>\n",
       "      <td>0</td>\n",
       "      <td>sales</td>\n",
       "      <td>low</td>\n",
       "    </tr>\n",
       "    <tr>\n",
       "      <th>1</th>\n",
       "      <td>0.89</td>\n",
       "      <td>0.93</td>\n",
       "      <td>4</td>\n",
       "      <td>249</td>\n",
       "      <td>3</td>\n",
       "      <td>0</td>\n",
       "      <td>0</td>\n",
       "      <td>0</td>\n",
       "      <td>sales</td>\n",
       "      <td>low</td>\n",
       "    </tr>\n",
       "    <tr>\n",
       "      <th>2</th>\n",
       "      <td>0.38</td>\n",
       "      <td>0.50</td>\n",
       "      <td>2</td>\n",
       "      <td>132</td>\n",
       "      <td>3</td>\n",
       "      <td>0</td>\n",
       "      <td>1</td>\n",
       "      <td>0</td>\n",
       "      <td>accounting</td>\n",
       "      <td>low</td>\n",
       "    </tr>\n",
       "    <tr>\n",
       "      <th>3</th>\n",
       "      <td>0.95</td>\n",
       "      <td>0.71</td>\n",
       "      <td>4</td>\n",
       "      <td>151</td>\n",
       "      <td>4</td>\n",
       "      <td>0</td>\n",
       "      <td>0</td>\n",
       "      <td>0</td>\n",
       "      <td>sales</td>\n",
       "      <td>medium</td>\n",
       "    </tr>\n",
       "    <tr>\n",
       "      <th>4</th>\n",
       "      <td>0.84</td>\n",
       "      <td>0.84</td>\n",
       "      <td>5</td>\n",
       "      <td>163</td>\n",
       "      <td>3</td>\n",
       "      <td>0</td>\n",
       "      <td>0</td>\n",
       "      <td>0</td>\n",
       "      <td>technical</td>\n",
       "      <td>low</td>\n",
       "    </tr>\n",
       "  </tbody>\n",
       "</table>\n",
       "</div>"
      ],
      "text/plain": [
       "   satisfaction_level  last_evaluation  number_project  average_montly_hours  \\\n",
       "0                0.10             0.90               7                   286   \n",
       "1                0.89             0.93               4                   249   \n",
       "2                0.38             0.50               2                   132   \n",
       "3                0.95             0.71               4                   151   \n",
       "4                0.84             0.84               5                   163   \n",
       "\n",
       "   time_spend_company  Work_accident  left  promotion_last_5years       sales  \\\n",
       "0                   4              0     1                      0       sales   \n",
       "1                   3              0     0                      0       sales   \n",
       "2                   3              0     1                      0  accounting   \n",
       "3                   4              0     0                      0       sales   \n",
       "4                   3              0     0                      0   technical   \n",
       "\n",
       "   salary  \n",
       "0     low  \n",
       "1     low  \n",
       "2     low  \n",
       "3  medium  \n",
       "4     low  "
      ]
     },
     "execution_count": 3,
     "metadata": {},
     "output_type": "execute_result"
    }
   ],
   "source": [
    "df.head()"
   ]
  },
  {
   "cell_type": "code",
   "execution_count": 4,
   "metadata": {},
   "outputs": [],
   "source": [
    "cols = list(df)\n",
    "cols.insert(0, cols.pop(cols.index('left')))\n",
    "df1 = df.ix[:, cols]\n",
    "df2 = df1.replace({'salary' : { 'low': 1, 'medium': 2, 'high' :3}})\n",
    "df3 = df2.replace({'sales' : {'sales' : 1, 'technical' : 2, 'support' :3, 'IT' :4, \n",
    "                            'product_mng' : 5, 'marketing' : 6, 'RandD' :7, \n",
    "                            'accounting' :8, 'hr' : 9, 'management' : 10}})"
   ]
  },
  {
   "cell_type": "markdown",
   "metadata": {},
   "source": [
    "## Part 1. Train decision tree only on categorical data. Report precision, recall, f1 score and accuracy."
   ]
  },
  {
   "cell_type": "code",
   "execution_count": 5,
   "metadata": {},
   "outputs": [],
   "source": [
    "X_cat=df3[[\"number_project\",\"time_spend_company\",\"Work_accident\",\"promotion_last_5years\",\"salary\",\"sales\"]]\n",
    "y_cat=df3.iloc[:,0]\n",
    "X_train,X_test,y_train,y_test = train_test_split(X_cat, y_cat, test_size=0.20)"
   ]
  },
  {
   "cell_type": "markdown",
   "metadata": {},
   "source": [
    "### Using Decision Tree Classifier from Scikit-learn"
   ]
  },
  {
   "cell_type": "code",
   "execution_count": 6,
   "metadata": {},
   "outputs": [
    {
     "name": "stdout",
     "output_type": "stream",
     "text": [
      "Decision Tree Classifier Using Scikit-Learn\n",
      "Training accuracy score : 93.5 %\n",
      "Validation accuracy score : 91.24 %\n",
      "[[1603  117]\n",
      " [  80  448]]\n",
      "              precision    recall  f1-score   support\n",
      "\n",
      "           0       0.95      0.93      0.94      1720\n",
      "           1       0.79      0.85      0.82       528\n",
      "\n",
      "   micro avg       0.91      0.91      0.91      2248\n",
      "   macro avg       0.87      0.89      0.88      2248\n",
      "weighted avg       0.91      0.91      0.91      2248\n",
      "\n"
     ]
    }
   ],
   "source": [
    "def prediction_model(model):\n",
    "    mdl=model(random_state = 300,criterion=\"entropy\")\n",
    "    #mdl=model()\n",
    "    dtree = mdl.fit(X_train,y_train)\n",
    "    y_pred_train=mdl.predict(X_train)\n",
    "    accuracy_mdl=accuracy_score(y_train,y_pred_train)\n",
    "    conf_matrix=confusion_matrix(y_train,y_pred_train)\n",
    "    print('Training accuracy score :',round(accuracy_mdl*100,2),'%')\n",
    "    y_pred=mdl.predict(X_test)\n",
    "    accuracy_mdl=accuracy_score(y_test,y_pred)\n",
    "    conf_matrix=confusion_matrix(y_test,y_pred)\n",
    "    print('Validation accuracy score :',round(accuracy_mdl*100,2),'%')\n",
    "    print(conf_matrix)\n",
    "    print(classification_report(y_test,y_pred))\n",
    "    return dtree\n",
    "\n",
    "print('Decision Tree Classifier Using Scikit-Learn')\n",
    "dtree=prediction_model(DecisionTreeClassifier)"
   ]
  },
  {
   "cell_type": "markdown",
   "metadata": {},
   "source": [
    "### Using own Decision Tree Classifier"
   ]
  },
  {
   "cell_type": "code",
   "execution_count": 7,
   "metadata": {},
   "outputs": [
    {
     "name": "stdout",
     "output_type": "stream",
     "text": [
      "Training accuracy score : 91.51 %\n",
      "Validation accuracy score : 91.41 %\n",
      "[[1587  133]\n",
      " [  60  468]]\n",
      "              precision    recall  f1-score   support\n",
      "\n",
      "           0       0.96      0.92      0.94      1720\n",
      "           1       0.78      0.89      0.83       528\n",
      "\n",
      "   micro avg       0.91      0.91      0.91      2248\n",
      "   macro avg       0.87      0.90      0.89      2248\n",
      "weighted avg       0.92      0.91      0.92      2248\n",
      "\n"
     ]
    }
   ],
   "source": [
    "from DecisionTree import *\n",
    "dt = DecisionTree(method=\"ID3\", measure=\"entropy\",max_depth=2)\n",
    "dtree1=dt.fit(X_train, y_train)\n",
    "y_pred_train=dt.predict(X_train)\n",
    "accuracy_mdl=accuracy_score(y_train,y_pred_train)\n",
    "conf_matrix=confusion_matrix(y_train,y_pred_train)\n",
    "print('Training accuracy score :',round(accuracy_mdl*100,2),'%')\n",
    "y_pred = dt.predict(X_test)\n",
    "accuracy_mdl=accuracy_score(y_test,y_pred)\n",
    "conf_matrix=confusion_matrix(y_test,y_pred)\n",
    "print('Validation accuracy score :',round(accuracy_mdl*100,2),'%')\n",
    "print(conf_matrix)\n",
    "print(classification_report(y_test,y_pred))\n",
    "#print(dt.cnt)\n",
    "#dt.exportTree()"
   ]
  },
  {
   "cell_type": "markdown",
   "metadata": {},
   "source": [
    "## Part 2. Train the decision tree with categorical and numerical features. Report precision, recall, f1 score and accuracy"
   ]
  },
  {
   "cell_type": "markdown",
   "metadata": {},
   "source": [
    "### Using Decision Tree Classifier from Scikit-learn"
   ]
  },
  {
   "cell_type": "code",
   "execution_count": 8,
   "metadata": {},
   "outputs": [
    {
     "name": "stdout",
     "output_type": "stream",
     "text": [
      "Decision Tree Classifier Using Scikit-Learn\n",
      "Training accuracy score : 100.0 %\n",
      "Validation accuracy score : 97.42 %\n",
      "[[1713   32]\n",
      " [  26  477]]\n",
      "              precision    recall  f1-score   support\n",
      "\n",
      "           0       0.99      0.98      0.98      1745\n",
      "           1       0.94      0.95      0.94       503\n",
      "\n",
      "   micro avg       0.97      0.97      0.97      2248\n",
      "   macro avg       0.96      0.96      0.96      2248\n",
      "weighted avg       0.97      0.97      0.97      2248\n",
      "\n"
     ]
    }
   ],
   "source": [
    "X=df3.iloc[:,1:10]\n",
    "y=df3.iloc[:,0]\n",
    "\n",
    "X_train,X_test,y_train,y_test = train_test_split(X, y, test_size=0.20)\n",
    "\n",
    "def prediction_model(model):\n",
    "    mdl=model(random_state=1000)\n",
    "    dtree = mdl.fit(X_train,y_train)\n",
    "    y_pred_train=mdl.predict(X_train)\n",
    "    accuracy_mdl=accuracy_score(y_train,y_pred_train)\n",
    "    conf_matrix=confusion_matrix(y_train,y_pred_train)\n",
    "    print('Training accuracy score :',round(accuracy_mdl*100,2),'%')\n",
    "    y_pred=mdl.predict(X_test)\n",
    "    accuracy_mdl=accuracy_score(y_test,y_pred)\n",
    "    conf_matrix=confusion_matrix(y_test,y_pred)\n",
    "    print('Validation accuracy score :',round(accuracy_mdl*100,2),'%')\n",
    "    print(conf_matrix)\n",
    "    print(classification_report(y_test,y_pred))\n",
    "    return dtree\n",
    "\n",
    "print('Decision Tree Classifier Using Scikit-Learn')\n",
    "dtree=prediction_model(DecisionTreeClassifier)\n"
   ]
  },
  {
   "cell_type": "markdown",
   "metadata": {},
   "source": [
    "### Using Own Decision Tree Classifier"
   ]
  },
  {
   "cell_type": "code",
   "execution_count": 9,
   "metadata": {},
   "outputs": [],
   "source": [
    "df3[\"promotion_last_5years\"]=df3[\"promotion_last_5years\"].astype(str)\n",
    "df3[\"Work_accident\"]=df3[\"Work_accident\"].astype(str)\n",
    "df3[\"number_project\"] = df3[\"number_project\"].astype(str)\n",
    "X=df3.iloc[:,1:10]\n",
    "y=df3.iloc[:,0]\n",
    "X_train,X_test,y_train,y_test = train_test_split(X, y, test_size=0.20,random_state=1200)"
   ]
  },
  {
   "cell_type": "code",
   "execution_count": 10,
   "metadata": {},
   "outputs": [
    {
     "name": "stdout",
     "output_type": "stream",
     "text": [
      "Max Depth = 1\n",
      "Training accuracy score : 84.17 %\n",
      "Validation accuracy score : 84.21 %\n",
      "[[1492  212]\n",
      " [ 143  401]]\n",
      "              precision    recall  f1-score   support\n",
      "\n",
      "           0       0.91      0.88      0.89      1704\n",
      "           1       0.65      0.74      0.69       544\n",
      "\n",
      "   micro avg       0.84      0.84      0.84      2248\n",
      "   macro avg       0.78      0.81      0.79      2248\n",
      "weighted avg       0.85      0.84      0.85      2248\n",
      "\n",
      "Max Depth = 2\n",
      "Training accuracy score : 92.29 %\n",
      "Validation accuracy score : 91.99 %\n",
      "[[1612   92]\n",
      " [  88  456]]\n",
      "              precision    recall  f1-score   support\n",
      "\n",
      "           0       0.95      0.95      0.95      1704\n",
      "           1       0.83      0.84      0.84       544\n",
      "\n",
      "   micro avg       0.92      0.92      0.92      2248\n",
      "   macro avg       0.89      0.89      0.89      2248\n",
      "weighted avg       0.92      0.92      0.92      2248\n",
      "\n",
      "Max Depth = 3\n",
      "Training accuracy score : 95.65 %\n",
      "Validation accuracy score : 95.69 %\n",
      "[[1650   54]\n",
      " [  43  501]]\n",
      "              precision    recall  f1-score   support\n",
      "\n",
      "           0       0.97      0.97      0.97      1704\n",
      "           1       0.90      0.92      0.91       544\n",
      "\n",
      "   micro avg       0.96      0.96      0.96      2248\n",
      "   macro avg       0.94      0.94      0.94      2248\n",
      "weighted avg       0.96      0.96      0.96      2248\n",
      "\n",
      "Max Depth = 4\n",
      "Training accuracy score : 97.22 %\n",
      "Validation accuracy score : 97.15 %\n",
      "[[1684   20]\n",
      " [  44  500]]\n",
      "              precision    recall  f1-score   support\n",
      "\n",
      "           0       0.97      0.99      0.98      1704\n",
      "           1       0.96      0.92      0.94       544\n",
      "\n",
      "   micro avg       0.97      0.97      0.97      2248\n",
      "   macro avg       0.97      0.95      0.96      2248\n",
      "weighted avg       0.97      0.97      0.97      2248\n",
      "\n",
      "Max Depth = 5\n",
      "Training accuracy score : 97.61 %\n",
      "Validation accuracy score : 97.64 %\n",
      "[[1695    9]\n",
      " [  44  500]]\n",
      "              precision    recall  f1-score   support\n",
      "\n",
      "           0       0.97      0.99      0.98      1704\n",
      "           1       0.98      0.92      0.95       544\n",
      "\n",
      "   micro avg       0.98      0.98      0.98      2248\n",
      "   macro avg       0.98      0.96      0.97      2248\n",
      "weighted avg       0.98      0.98      0.98      2248\n",
      "\n",
      "Max Depth = 6\n",
      "Training accuracy score : 97.73 %\n",
      "Validation accuracy score : 97.55 %\n",
      "[[1689   15]\n",
      " [  40  504]]\n",
      "              precision    recall  f1-score   support\n",
      "\n",
      "           0       0.98      0.99      0.98      1704\n",
      "           1       0.97      0.93      0.95       544\n",
      "\n",
      "   micro avg       0.98      0.98      0.98      2248\n",
      "   macro avg       0.97      0.96      0.97      2248\n",
      "weighted avg       0.98      0.98      0.98      2248\n",
      "\n",
      "Max Depth = 7\n",
      "Training accuracy score : 97.89 %\n",
      "Validation accuracy score : 97.51 %\n",
      "[[1689   15]\n",
      " [  41  503]]\n",
      "              precision    recall  f1-score   support\n",
      "\n",
      "           0       0.98      0.99      0.98      1704\n",
      "           1       0.97      0.92      0.95       544\n",
      "\n",
      "   micro avg       0.98      0.98      0.98      2248\n",
      "   macro avg       0.97      0.96      0.97      2248\n",
      "weighted avg       0.98      0.98      0.97      2248\n",
      "\n",
      "Max Depth = 8\n",
      "Training accuracy score : 98.01 %\n",
      "Validation accuracy score : 97.46 %\n",
      "[[1681   23]\n",
      " [  34  510]]\n",
      "              precision    recall  f1-score   support\n",
      "\n",
      "           0       0.98      0.99      0.98      1704\n",
      "           1       0.96      0.94      0.95       544\n",
      "\n",
      "   micro avg       0.97      0.97      0.97      2248\n",
      "   macro avg       0.97      0.96      0.97      2248\n",
      "weighted avg       0.97      0.97      0.97      2248\n",
      "\n",
      "Max Depth = 9\n",
      "Training accuracy score : 98.03 %\n",
      "Validation accuracy score : 97.38 %\n",
      "[[1680   24]\n",
      " [  35  509]]\n",
      "              precision    recall  f1-score   support\n",
      "\n",
      "           0       0.98      0.99      0.98      1704\n",
      "           1       0.95      0.94      0.95       544\n",
      "\n",
      "   micro avg       0.97      0.97      0.97      2248\n",
      "   macro avg       0.97      0.96      0.96      2248\n",
      "weighted avg       0.97      0.97      0.97      2248\n",
      "\n",
      "Max Depth = 10\n",
      "Training accuracy score : 98.03 %\n",
      "Validation accuracy score : 97.38 %\n",
      "[[1680   24]\n",
      " [  35  509]]\n",
      "              precision    recall  f1-score   support\n",
      "\n",
      "           0       0.98      0.99      0.98      1704\n",
      "           1       0.95      0.94      0.95       544\n",
      "\n",
      "   micro avg       0.97      0.97      0.97      2248\n",
      "   macro avg       0.97      0.96      0.96      2248\n",
      "weighted avg       0.97      0.97      0.97      2248\n",
      "\n"
     ]
    }
   ],
   "source": [
    "from DecisionTree import *\n",
    "train_acc=[]\n",
    "val_acc=[]\n",
    "node=[]\n",
    "for i in range(1,11):\n",
    "    print(\"Max Depth = \"+str(i))\n",
    "    dt = DecisionTree(method=\"C4.5\", measure=\"entropy\",max_depth=i)\n",
    "    dtree1=dt.fit(X_train, y_train)\n",
    "    y_pred_train=dt.predict(X_train)\n",
    "    accuracy_mdl=accuracy_score(y_train,y_pred_train)\n",
    "    conf_matrix=confusion_matrix(y_train,y_pred_train)\n",
    "    train_acc.append(round(accuracy_mdl*100,2))\n",
    "    print('Training accuracy score :',round(accuracy_mdl*100,2),'%')\n",
    "    y_pred = dt.predict(X_test)\n",
    "    accuracy_mdl=accuracy_score(y_test,y_pred)\n",
    "    conf_matrix=confusion_matrix(y_test,y_pred)\n",
    "    val_acc.append(round(accuracy_mdl*100,2))\n",
    "    print('Validation accuracy score :',round(accuracy_mdl*100,2),'%')\n",
    "    print(conf_matrix)\n",
    "    print(classification_report(y_test,y_pred))\n",
    "    #dt.exportTree()\n",
    "    node.append(dt.cnt)"
   ]
  },
  {
   "cell_type": "markdown",
   "metadata": {},
   "source": [
    "### Observation :\n",
    "#### Here we can see that the highest validation accuracy comes when max_depth = 5, and the corresponding validation accuracy is 97.64 %, where as the precision, recall and F1-score is 0.98 in this case ."
   ]
  },
  {
   "cell_type": "markdown",
   "metadata": {},
   "source": [
    "## Part 3. Contrast the effectiveness of Misclassification rate, Gini, Entropy as impurity measures in terms of precision, recall and accuracy."
   ]
  },
  {
   "cell_type": "markdown",
   "metadata": {},
   "source": [
    "### Using Misclassification Rate as impurity measure :"
   ]
  },
  {
   "cell_type": "code",
   "execution_count": 11,
   "metadata": {},
   "outputs": [
    {
     "name": "stdout",
     "output_type": "stream",
     "text": [
      "Training accuracy score : 96.13 %\n",
      "Validation accuracy score : 96.31 %\n",
      "[[1694   10]\n",
      " [  73  471]]\n",
      "              precision    recall  f1-score   support\n",
      "\n",
      "           0       0.96      0.99      0.98      1704\n",
      "           1       0.98      0.87      0.92       544\n",
      "\n",
      "   micro avg       0.96      0.96      0.96      2248\n",
      "   macro avg       0.97      0.93      0.95      2248\n",
      "weighted avg       0.96      0.96      0.96      2248\n",
      "\n"
     ]
    }
   ],
   "source": [
    "dt = DecisionTree(method=\"C4.5\", measure=\"misclass\",max_depth=5)\n",
    "dtree1=dt.fit(X_train, y_train)\n",
    "y_pred_train=dt.predict(X_train)\n",
    "accuracy_mdl=accuracy_score(y_train,y_pred_train)\n",
    "conf_matrix=confusion_matrix(y_train,y_pred_train)\n",
    "print('Training accuracy score :',round(accuracy_mdl*100,2),'%')\n",
    "y_pred = dt.predict(X_test)\n",
    "accuracy_mdl=accuracy_score(y_test,y_pred)\n",
    "conf_matrix=confusion_matrix(y_test,y_pred)\n",
    "print('Validation accuracy score :',round(accuracy_mdl*100,2),'%')\n",
    "print(conf_matrix)\n",
    "print(classification_report(y_test,y_pred))"
   ]
  },
  {
   "cell_type": "markdown",
   "metadata": {},
   "source": [
    "### Using Gini Index as impurity measure :"
   ]
  },
  {
   "cell_type": "code",
   "execution_count": 12,
   "metadata": {},
   "outputs": [
    {
     "name": "stdout",
     "output_type": "stream",
     "text": [
      "Training accuracy score : 97.68 %\n",
      "Validation accuracy score : 97.42 %\n",
      "[[1689   15]\n",
      " [  43  501]]\n",
      "              precision    recall  f1-score   support\n",
      "\n",
      "           0       0.98      0.99      0.98      1704\n",
      "           1       0.97      0.92      0.95       544\n",
      "\n",
      "   micro avg       0.97      0.97      0.97      2248\n",
      "   macro avg       0.97      0.96      0.96      2248\n",
      "weighted avg       0.97      0.97      0.97      2248\n",
      "\n"
     ]
    }
   ],
   "source": [
    "dt = DecisionTree(method=\"C4.5\", measure=\"gini\",max_depth=5)\n",
    "dtree1=dt.fit(X_train, y_train)\n",
    "y_pred_train=dt.predict(X_train)\n",
    "accuracy_mdl=accuracy_score(y_train,y_pred_train)\n",
    "conf_matrix=confusion_matrix(y_train,y_pred_train)\n",
    "print('Training accuracy score :',round(accuracy_mdl*100,2),'%')\n",
    "y_pred = dt.predict(X_test)\n",
    "accuracy_mdl=accuracy_score(y_test,y_pred)\n",
    "conf_matrix=confusion_matrix(y_test,y_pred)\n",
    "print('Validation accuracy score :',round(accuracy_mdl*100,2),'%')\n",
    "print(conf_matrix)\n",
    "print(classification_report(y_test,y_pred))"
   ]
  },
  {
   "cell_type": "markdown",
   "metadata": {},
   "source": [
    "### Using Entropy as impurity measure :"
   ]
  },
  {
   "cell_type": "code",
   "execution_count": 13,
   "metadata": {},
   "outputs": [
    {
     "name": "stdout",
     "output_type": "stream",
     "text": [
      "Training accuracy score : 97.61 %\n",
      "Validation accuracy score : 97.64 %\n",
      "[[1695    9]\n",
      " [  44  500]]\n",
      "              precision    recall  f1-score   support\n",
      "\n",
      "           0       0.97      0.99      0.98      1704\n",
      "           1       0.98      0.92      0.95       544\n",
      "\n",
      "   micro avg       0.98      0.98      0.98      2248\n",
      "   macro avg       0.98      0.96      0.97      2248\n",
      "weighted avg       0.98      0.98      0.98      2248\n",
      "\n"
     ]
    }
   ],
   "source": [
    "dt = DecisionTree(method=\"C4.5\", measure=\"entropy\",max_depth=5)\n",
    "dtree1=dt.fit(X_train, y_train)\n",
    "y_pred_train=dt.predict(X_train)\n",
    "accuracy_mdl=accuracy_score(y_train,y_pred_train)\n",
    "conf_matrix=confusion_matrix(y_train,y_pred_train)\n",
    "print('Training accuracy score :',round(accuracy_mdl*100,2),'%')\n",
    "y_pred = dt.predict(X_test)\n",
    "accuracy_mdl=accuracy_score(y_test,y_pred)\n",
    "conf_matrix=confusion_matrix(y_test,y_pred)\n",
    "print('Validation accuracy score :',round(accuracy_mdl*100,2),'%')\n",
    "print(conf_matrix)\n",
    "print(classification_report(y_test,y_pred))\n",
    "#dt.exportTree()"
   ]
  },
  {
   "cell_type": "markdown",
   "metadata": {},
   "source": [
    "### Observation :\n",
    "#### So, we can see that the accuracy values for different impurity measures are like this : Misclassifiction Rate < Gini Index < Entropy Measure"
   ]
  },
  {
   "cell_type": "markdown",
   "metadata": {},
   "source": [
    "## Part 4. Visualise training data on a 2-dimensional plot taking one feature (attribute) on one axis and other feature on another axis. Take two suitable features to visualise decision tree boundary"
   ]
  },
  {
   "cell_type": "code",
   "execution_count": 14,
   "metadata": {},
   "outputs": [
    {
     "data": {
      "image/png": "[encoded data removed]",
      "text/plain": [
       "<Figure size 432x288 with 1 Axes>"
      ]
     },
     "metadata": {
      "needs_background": "light"
     },
     "output_type": "display_data"
    }
   ],
   "source": [
    "plot1=df[[\"number_project\",\"time_spend_company\",\"left\"]]\n",
    "plot2=plot1[plot1[\"left\"]==1]\n",
    "plot2\n",
    "plot3=plot1[plot1[\"left\"]==0]\n",
    "plot3\n",
    "plt.scatter(plot3[\"number_project\"],plot3[\"time_spend_company\"],label=\"Not left\")\n",
    "plt.scatter(plot2[\"number_project\"],plot2[\"time_spend_company\"],label=\"left\")\n",
    "plt.xlabel(\"number_project\")\n",
    "plt.ylabel(\"time_spend_company\")\n",
    "plt.legend(loc=\"best\")\n",
    "plt.show()"
   ]
  },
  {
   "cell_type": "markdown",
   "metadata": {},
   "source": [
    "## Part 5a. Plot a graph of training and validation error with respect to depth of my decision tree"
   ]
  },
  {
   "cell_type": "code",
   "execution_count": 15,
   "metadata": {},
   "outputs": [
    {
     "data": {
      "image/png": "[encoded data removed]",
      "text/plain": [
       "<Figure size 432x288 with 1 Axes>"
      ]
     },
     "metadata": {
      "needs_background": "light"
     },
     "output_type": "display_data"
    }
   ],
   "source": [
    "val_acc=100-np.array(val_acc)\n",
    "train_acc=100-np.array(train_acc)\n",
    "plt.plot(range(1,11),val_acc,\"o-\",label=\"Validation\")\n",
    "plt.plot(range(1,11),train_acc,\"x-\",label=\"Training\")\n",
    "plt.xlabel(\"Max Depth\")\n",
    "plt.ylabel(\"Error %\")\n",
    "plt.legend(loc=\"best\")\n",
    "plt.show()"
   ]
  },
  {
   "cell_type": "markdown",
   "metadata": {},
   "source": [
    "## Part 5b. Plot a graph of training and validation error with respect to number of nodes of my decision tree\n"
   ]
  },
  {
   "cell_type": "code",
   "execution_count": 16,
   "metadata": {},
   "outputs": [
    {
     "data": {
      "image/png": "[encoded data removed]",
      "text/plain": [
       "<Figure size 432x288 with 1 Axes>"
      ]
     },
     "metadata": {
      "needs_background": "light"
     },
     "output_type": "display_data"
    }
   ],
   "source": [
    "plt.plot(node,val_acc,\"o-\",label=\"Validation\")\n",
    "plt.plot(node,train_acc,\"x-\",label=\"Training\")\n",
    "plt.xlabel(\"Number of Nodes\")\n",
    "plt.ylabel(\"Error %\")\n",
    "plt.legend(loc=\"best\")\n",
    "plt.show()"
   ]
  },
  {
   "cell_type": "markdown",
   "metadata": {},
   "source": [
    "## Part 6. Explain how decision tree is suitable handle missing values(few attributes missing in test samples) in data."
   ]
  },
  {
   "cell_type": "markdown",
   "metadata": {},
   "source": [
    "### There are a few methods by which Decision Tree suitably deals with missing values during testing :-"
   ]
  },
  {
   "cell_type": "markdown",
   "metadata": {},
   "source": [
    "### A. Imputation"
   ]
  },
  {
   "cell_type": "markdown",
   "metadata": {},
   "source": [
    "Imputation a class of methods by which an estimation of missing value or of its distribution\n",
    "is used to generate prediction. \n",
    "An unknown value is replaced by an estimation of the value. \n",
    "![title](1.png)"
   ]
  },
  {
   "cell_type": "markdown",
   "metadata": {},
   "source": [
    "### B. C4.5 Strategy "
   ]
  },
  {
   "cell_type": "markdown",
   "metadata": {},
   "source": [
    "In this approach, the distribution of possible missing value\n",
    "is estimated and corresponding model predictions are\n",
    "combined probabilistically. At the time of testing, a test\n",
    "instance with missing value is split into branches according\n",
    "to the portions of training examples falling into those\n",
    "branches and goes down to leaves. "
   ]
  },
  {
   "cell_type": "markdown",
   "metadata": {},
   "source": [
    "### C. Lazy Decision Tree (Reduced Feature Models/Known Value Strategy)"
   ]
  },
  {
   "cell_type": "markdown",
   "metadata": {},
   "source": [
    "Friedman suggested lazy decision tree approach where\n",
    "the prediction model is constructed at testing time based on\n",
    "the available test instance values. This is also known as\n",
    "‘Known values strategy’. During tree construction it uses\n",
    "only attributes whose values are known at testing. Hence it\n",
    "naturally handles the missing values at testing. The main\n",
    "drawback of this approach is its high computational cost as\n",
    "different trees may be constructed for different test examples.\n",
    "We can also save few trees and make use of it at running\n",
    "time.\n",
    "![title](2.png)"
   ]
  },
  {
   "cell_type": "markdown",
   "metadata": {},
   "source": [
    "### D. Null Strategy"
   ]
  },
  {
   "cell_type": "markdown",
   "metadata": {},
   "source": [
    "In Null Value strategy as discussed in training time, ‘Null’\n",
    "is considered as a special value both at training and testing\n",
    "time."
   ]
  },
  {
   "cell_type": "markdown",
   "metadata": {},
   "source": [
    "## Custom Testing :\n",
    "\n",
    "### For testing against purely unseen test data, do the following in the terminal :\n",
    "\n",
    "python3 DecisionTree.py train.csv test.csv"
   ]
  },
  {
   "cell_type": "code",
   "execution_count": null,
   "metadata": {},
   "outputs": [],
   "source": []
  }
 ],
 "metadata": {
  "kernelspec": {
   "display_name": "Python 3",
   "language": "python",
   "name": "python3"
  },
  "language_info": {
   "codemirror_mode": {
    "name": "ipython",
    "version": 3
   },
   "file_extension": ".py",
   "mimetype": "text/x-python",
   "name": "python",
   "nbconvert_exporter": "python",
   "pygments_lexer": "ipython3",
   "version": "3.7.2"
  }
 },
 "nbformat": 4,
 "nbformat_minor": 2
}
